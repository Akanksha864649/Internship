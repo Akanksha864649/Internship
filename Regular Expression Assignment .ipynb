{
 "cells": [
  {
   "cell_type": "markdown",
   "id": "7bf93ea7",
   "metadata": {},
   "source": [
    "Question 1- Write a Python program to check that a string contains only a certain set of characters (in this case a-z, A-Z and 0-9)."
   ]
  },
  {
   "cell_type": "code",
   "execution_count": 1,
   "id": "e8b47889",
   "metadata": {},
   "outputs": [],
   "source": [
    "import re"
   ]
  },
  {
   "cell_type": "code",
   "execution_count": 2,
   "id": "77a07f1a",
   "metadata": {},
   "outputs": [
    {
     "name": "stdout",
     "output_type": "stream",
     "text": [
      "['H', 'e', 'l', 'l', 'o', 'D', 'a', 't', 'a', 'S', 'c', 'i', 'e', 'n', 'c', 'e', 'W', 'o', 'r', 'l', 'd', '1', '4', 'J', 'u', 'l', 'y', '2', '0', '2', '3']\n"
     ]
    }
   ],
   "source": [
    "txt = 'Hello DataScience World, 14 July 2023'\n",
    "p = '\\w'\n",
    "x = re.findall(p,txt)\n",
    "print (x)"
   ]
  },
  {
   "cell_type": "markdown",
   "id": "38c41dff",
   "metadata": {},
   "source": [
    "Question 2- Create a function in python that matches a string that has an a followed by zero or more b's"
   ]
  },
  {
   "cell_type": "code",
   "execution_count": 3,
   "id": "8e0c8610",
   "metadata": {},
   "outputs": [
    {
     "name": "stdout",
     "output_type": "stream",
     "text": [
      "['bbbbbb']\n"
     ]
    }
   ],
   "source": [
    "txt = \"abbbbbb\"\n",
    "p = '^a(b*)$'\n",
    "x = re.findall(p,txt)\n",
    "print (x)"
   ]
  },
  {
   "cell_type": "markdown",
   "id": "8fdad364",
   "metadata": {},
   "source": [
    "Question 3-  Create a function in python that matches a string that has an a followed by one or more b's"
   ]
  },
  {
   "cell_type": "code",
   "execution_count": 4,
   "id": "3a351e74",
   "metadata": {},
   "outputs": [
    {
     "name": "stdout",
     "output_type": "stream",
     "text": [
      "['bbbb']\n"
     ]
    }
   ],
   "source": [
    "txt = \"abbbb\"\n",
    "p = '^a(b+)'\n",
    "x = re.findall(p,txt)\n",
    "print (x)"
   ]
  },
  {
   "cell_type": "markdown",
   "id": "fb26e737",
   "metadata": {},
   "source": [
    "Question 4- Create a function in Python and use RegEx that matches a string that has an a followed by zero or one 'b'."
   ]
  },
  {
   "cell_type": "code",
   "execution_count": 5,
   "id": "a4b9fd7e",
   "metadata": {},
   "outputs": [
    {
     "name": "stdout",
     "output_type": "stream",
     "text": [
      "['b']\n"
     ]
    }
   ],
   "source": [
    "txt = 'ab'\n",
    "p = '^a(b?)'\n",
    "x = re.findall(p,txt)\n",
    "print(x)"
   ]
  },
  {
   "cell_type": "markdown",
   "id": "86ca78ae",
   "metadata": {},
   "source": [
    "Question 5- Write a Python program that matches a string that has an a followed by three 'b'."
   ]
  },
  {
   "cell_type": "code",
   "execution_count": 6,
   "id": "34fb2525",
   "metadata": {},
   "outputs": [
    {
     "name": "stdout",
     "output_type": "stream",
     "text": [
      "['bbb']\n"
     ]
    }
   ],
   "source": [
    "txt = 'abbb'\n",
    "p = '^a(b+)'\n",
    "x = re.findall(p,txt)\n",
    "print (x)"
   ]
  },
  {
   "cell_type": "markdown",
   "id": "4b976b64",
   "metadata": {},
   "source": [
    "Question 6- Write a regular expression in Python to split a string into uppercase letters"
   ]
  },
  {
   "cell_type": "code",
   "execution_count": 7,
   "id": "59c4a1e5",
   "metadata": {},
   "outputs": [
    {
     "name": "stdout",
     "output_type": "stream",
     "text": [
      "['Python ', 'Was ', 'Introduced ', 'By ', 'Guido ', 'Van ', 'Rossum']\n"
     ]
    }
   ],
   "source": [
    "txt = 'Python Was Introduced By Guido Van Rossum'\n",
    "p = '[A-Z][^A-Z]*'\n",
    "x = re.findall(p,txt)\n",
    "print (x)"
   ]
  },
  {
   "cell_type": "markdown",
   "id": "774cd39a",
   "metadata": {},
   "source": [
    "Question 7- Write a Python program that matches a string that has an a followed by two to three 'b'."
   ]
  },
  {
   "cell_type": "code",
   "execution_count": 8,
   "id": "49bd828a",
   "metadata": {},
   "outputs": [
    {
     "name": "stdout",
     "output_type": "stream",
     "text": [
      "['abb']\n"
     ]
    }
   ],
   "source": [
    "txt = 'abbb'\n",
    "p = 'ab{2,3}?'\n",
    "x = re.findall(p,txt)\n",
    "print (x)"
   ]
  },
  {
   "cell_type": "markdown",
   "id": "cecfa133",
   "metadata": {},
   "source": [
    "Question 8- Write a Python program to find sequences of lowercase letters joined with a underscore"
   ]
  },
  {
   "cell_type": "code",
   "execution_count": 9,
   "id": "5fe5f308",
   "metadata": {},
   "outputs": [
    {
     "name": "stdout",
     "output_type": "stream",
     "text": [
      "['abcde_fghtu']\n"
     ]
    }
   ],
   "source": [
    "txt = \"abcde_fghtu\"\n",
    "p = '^[a-z]+_[a-z]+$'\n",
    "x = re.findall(p,txt)\n",
    "print (x)"
   ]
  },
  {
   "cell_type": "markdown",
   "id": "a6abcbea",
   "metadata": {},
   "source": [
    "Question 9- Write a Python program that matches a string that has an 'a' followed by anything, ending in 'b'."
   ]
  },
  {
   "cell_type": "code",
   "execution_count": 10,
   "id": "ea6092f1",
   "metadata": {},
   "outputs": [
    {
     "name": "stdout",
     "output_type": "stream",
     "text": [
      "['absorb']\n"
     ]
    }
   ],
   "source": [
    "txt = 'absorb'\n",
    "p = 'a.*?b$'\n",
    "x = re.findall(p,txt)\n",
    "print(x)"
   ]
  },
  {
   "cell_type": "markdown",
   "id": "0c4c8106",
   "metadata": {},
   "source": [
    "Question 10- Write a Python program that matches a word at the beginning of a string."
   ]
  },
  {
   "cell_type": "code",
   "execution_count": 11,
   "id": "5e16b641",
   "metadata": {},
   "outputs": [
    {
     "name": "stdout",
     "output_type": "stream",
     "text": [
      "['nature']\n"
     ]
    }
   ],
   "source": [
    "txt = 'nature is beautiful'\n",
    "p = '^\\w+'\n",
    "x = re.findall(p,txt)\n",
    "print (x)"
   ]
  },
  {
   "cell_type": "markdown",
   "id": "54aec2d5",
   "metadata": {},
   "source": [
    "Question 11- Write a Python program to match a string that contains only upper and lowercase letters, numbers, and underscores."
   ]
  },
  {
   "cell_type": "code",
   "execution_count": 12,
   "id": "c02863ff",
   "metadata": {},
   "outputs": [
    {
     "name": "stdout",
     "output_type": "stream",
     "text": [
      "['Chandrayaan_3_launched']\n"
     ]
    }
   ],
   "source": [
    "txt = 'Chandrayaan_3_launched'\n",
    "p = '^[a-zA-Z0-9_]*$'\n",
    "x = re.findall(p,txt)\n",
    "print (x)"
   ]
  },
  {
   "cell_type": "markdown",
   "id": "3541e226",
   "metadata": {},
   "source": [
    "Question 12- Write a Python program where a string will start with a specific number. "
   ]
  },
  {
   "cell_type": "code",
   "execution_count": 13,
   "id": "e53040f9",
   "metadata": {},
   "outputs": [
    {
     "name": "stdout",
     "output_type": "stream",
     "text": [
      "['2']\n"
     ]
    }
   ],
   "source": [
    "txt = '2547863'\n",
    "p = '^2'\n",
    "x = re.findall(p,txt)\n",
    "print (x)"
   ]
  },
  {
   "cell_type": "markdown",
   "id": "497ca172",
   "metadata": {},
   "source": [
    "Question 13- Write a Python program to remove leading zeros from an IP address"
   ]
  },
  {
   "cell_type": "code",
   "execution_count": 14,
   "id": "ce80fa6a",
   "metadata": {},
   "outputs": [
    {
     "name": "stdout",
     "output_type": "stream",
     "text": [
      "10.254.84.69\n"
     ]
    }
   ],
   "source": [
    "ip = '10.254.084.069'\n",
    "x = re.sub('\\.[0]*', '.',ip)\n",
    "print (x)"
   ]
  },
  {
   "cell_type": "markdown",
   "id": "3ac27e3c",
   "metadata": {},
   "source": [
    "Question 15- Write a Python program to search some literals strings in a string. "
   ]
  },
  {
   "cell_type": "code",
   "execution_count": 15,
   "id": "7c585d3c",
   "metadata": {},
   "outputs": [
    {
     "name": "stdout",
     "output_type": "stream",
     "text": [
      "Searching for \"['fox', 'dog', 'horse']\" in \"The quick brown fox jumps over the lazy dog.\" ->\n",
      "Matched!\n",
      "Searching for \"['fox', 'dog', 'horse']\" in \"The quick brown fox jumps over the lazy dog.\" ->\n",
      "Matched!\n",
      "Searching for \"['fox', 'dog', 'horse']\" in \"The quick brown fox jumps over the lazy dog.\" ->\n",
      "Not Matched!\n"
     ]
    }
   ],
   "source": [
    "txt = 'The quick brown fox jumps over the lazy dog.'\n",
    "words = [ 'fox', 'dog', 'horse' ]\n",
    "for pattern in words:\n",
    "    print('Searching for \"%s\" in \"%s\" ->' % (words,txt),)\n",
    "    if re.search(pattern,txt):\n",
    "        print('Matched!')\n",
    "    else:\n",
    "        print('Not Matched!')"
   ]
  },
  {
   "cell_type": "markdown",
   "id": "5228fc23",
   "metadata": {},
   "source": [
    "Question 16- Write a Python program to search a literals string in a string and also find the location within the original string where the pattern occurs"
   ]
  },
  {
   "cell_type": "code",
   "execution_count": 16,
   "id": "1e59849f",
   "metadata": {},
   "outputs": [
    {
     "name": "stdout",
     "output_type": "stream",
     "text": [
      "Searched \"fox\" in \"The quick brown fox jumps over the lazy dog.\" location 16 to 19 \n"
     ]
    }
   ],
   "source": [
    "txt = 'The quick brown fox jumps over the lazy dog.'\n",
    "word = 'fox'\n",
    "match = re.search(word,txt)\n",
    "s = match.start()\n",
    "e = match.end()\n",
    "print('Searched \"%s\" in \"%s\" location %d to %d ' % \\\n",
    "      (match.re.pattern, match.string,s,e))"
   ]
  },
  {
   "cell_type": "markdown",
   "id": "54ffad2a",
   "metadata": {},
   "source": [
    "Question 17- Write a Python program to find the substrings within a string."
   ]
  },
  {
   "cell_type": "code",
   "execution_count": 17,
   "id": "30ae78e7",
   "metadata": {},
   "outputs": [
    {
     "name": "stdout",
     "output_type": "stream",
     "text": [
      "Matched \"Ago\"\n",
      "Matched \"Ago\"\n",
      "Matched \"Ago\"\n"
     ]
    }
   ],
   "source": [
    "txt = 'One Month Ago, Two Days Ago, One year Ago'\n",
    "p = 'Ago'\n",
    "for match in re.findall(p,txt):\n",
    "    print('Matched \"%s\"' % match)"
   ]
  },
  {
   "cell_type": "markdown",
   "id": "4f2beefd",
   "metadata": {},
   "source": [
    "Question 18- Write a Python program to find the occurrence and position of the substrings within a string."
   ]
  },
  {
   "cell_type": "code",
   "execution_count": 18,
   "id": "0abca06b",
   "metadata": {},
   "outputs": [
    {
     "name": "stdout",
     "output_type": "stream",
     "text": [
      "Found \"Ago\" at 10:13\n",
      "Found \"Ago\" at 24:27\n",
      "Found \"Ago\" at 38:41\n"
     ]
    }
   ],
   "source": [
    "txt = 'One Month Ago, Two Days Ago, One year Ago'\n",
    "p = 'Ago'\n",
    "for match in re.finditer(p,txt):\n",
    "    s = match.start()\n",
    "    e = match.end()\n",
    "    print('Found \"%s\" at %d:%d' % (txt[s:e], s, e))"
   ]
  },
  {
   "cell_type": "markdown",
   "id": "6ec269f2",
   "metadata": {},
   "source": [
    "Question 19- Write a Python program to convert a date of yyyy-mm-dd format to dd-mm-yyyy format."
   ]
  },
  {
   "cell_type": "code",
   "execution_count": 19,
   "id": "b9c9a552",
   "metadata": {},
   "outputs": [
    {
     "name": "stdout",
     "output_type": "stream",
     "text": [
      "yyyy-mm-dd format:  1990-09-05\n",
      "dd-mm-yyyy format:  05-09-1990\n"
     ]
    }
   ],
   "source": [
    "def change_date_format(dt):\n",
    "        return re.sub(r'(\\d{4})-(\\d{1,2})-(\\d{1,2})', '\\\\3-\\\\2-\\\\1', dt)\n",
    "dt1 = \"1990-09-05\"\n",
    "print(\"yyyy-mm-dd format: \",dt1)\n",
    "print(\"dd-mm-yyyy format: \",change_date_format(dt1))"
   ]
  },
  {
   "cell_type": "markdown",
   "id": "cd2996a5",
   "metadata": {},
   "source": [
    "Question 20- Write a Python program to find all words starting with 'a' or 'e' in a given string."
   ]
  },
  {
   "cell_type": "code",
   "execution_count": 20,
   "id": "3bda4c04",
   "metadata": {},
   "outputs": [
    {
     "name": "stdout",
     "output_type": "stream",
     "text": [
      "['ar', 'amming', 'anguage', 'an', 'ed', 'erver', 'eate', 'eb', 'applications']\n"
     ]
    }
   ],
   "source": [
    "txt = 'Python is a popular programming language. Python can be used on a server to create web applications.'\n",
    "p = \"[ae]\\w+\"\n",
    "S = re.findall(p,txt)\n",
    "print(S)"
   ]
  },
  {
   "cell_type": "markdown",
   "id": "e4a0e7eb",
   "metadata": {},
   "source": [
    "Question 21- Write a Python program to separate and print the numbers and their position of a given string."
   ]
  },
  {
   "cell_type": "code",
   "execution_count": 27,
   "id": "a8602aeb",
   "metadata": {},
   "outputs": [
    {
     "name": "stdout",
     "output_type": "stream",
     "text": [
      "1991\n",
      "Index position: 94\n"
     ]
    }
   ],
   "source": [
    "txt = 'Python is a popular programming language. It was created by Guido van Rossum, and released in 1991.' \n",
    "result = re.search(\"\\d+\", txt)\n",
    "print(result.group())\n",
    "print(\"Index position:\", result.start())"
   ]
  },
  {
   "cell_type": "markdown",
   "id": "80e2319f",
   "metadata": {},
   "source": [
    "Question 22- Write a regular expression in python program to extract maximum numeric value from a string"
   ]
  },
  {
   "cell_type": "code",
   "execution_count": 22,
   "id": "fe52b363",
   "metadata": {},
   "outputs": [],
   "source": [
    "#Using findall() and max() method (Answer to Q.22)"
   ]
  },
  {
   "cell_type": "markdown",
   "id": "a00c5aa8",
   "metadata": {},
   "source": [
    "Question 23- Write a Regex in Python to put spaces between words starting with capital letters"
   ]
  },
  {
   "cell_type": "code",
   "execution_count": 23,
   "id": "9de17bea",
   "metadata": {},
   "outputs": [
    {
     "name": "stdout",
     "output_type": "stream",
     "text": [
      "Python Is APopular Programming Language\n"
     ]
    }
   ],
   "source": [
    "def capital_words_spaces(str1):\n",
    "    return re.sub(r\"(\\w)([A-Z])\", r\"\\1 \\2\", str1)\n",
    "print(capital_words_spaces('PythonIsAPopularProgrammingLanguage'))"
   ]
  },
  {
   "cell_type": "markdown",
   "id": "ce3f8607",
   "metadata": {},
   "source": [
    "Question 24- Python regex to find sequences of one upper case letter followed by lower case letters"
   ]
  },
  {
   "cell_type": "code",
   "execution_count": 24,
   "id": "efdcf8f4",
   "metadata": {},
   "outputs": [
    {
     "name": "stdout",
     "output_type": "stream",
     "text": [
      "<re.Match object; span=(19, 27), match='Language'>\n"
     ]
    }
   ],
   "source": [
    "txt = 'Python Programming Language'\n",
    "p = '[A-Z]+[a-z]+$'\n",
    "x = re.search(p,txt)\n",
    "print (x)"
   ]
  },
  {
   "cell_type": "markdown",
   "id": "2d3c1e2f",
   "metadata": {},
   "source": [
    "Question 25- Write a Python program to remove duplicate words from Sentence using Regular Expression"
   ]
  },
  {
   "cell_type": "code",
   "execution_count": 25,
   "id": "f003d78d",
   "metadata": {},
   "outputs": [
    {
     "name": "stdout",
     "output_type": "stream",
     "text": [
      "Python Programming is a Language\n"
     ]
    }
   ],
   "source": [
    "txt = 'Python Programming is a Python Programming Language'\n",
    "def unique_list(txt):\n",
    "    i = txt.split()\n",
    "    temp = []\n",
    "    for x in i:\n",
    "        if x not in temp:\n",
    "            temp.append(x)\n",
    "    return ' '.join(temp)\n",
    "print (unique_list(txt))"
   ]
  },
  {
   "cell_type": "markdown",
   "id": "17914a1b",
   "metadata": {},
   "source": [
    "Question 26-  Write a python program using RegEx to accept string ending with alphanumeric character."
   ]
  },
  {
   "cell_type": "code",
   "execution_count": 26,
   "id": "92d38209",
   "metadata": {},
   "outputs": [
    {
     "name": "stdout",
     "output_type": "stream",
     "text": [
      "['1']\n"
     ]
    }
   ],
   "source": [
    "txt = 'aggb577hh98767ghhj21'\n",
    "p = '[a-zA-z0-9]$'\n",
    "x = re.findall(p,txt)\n",
    "print (x)     "
   ]
  },
  {
   "cell_type": "code",
   "execution_count": null,
   "id": "ff90d200",
   "metadata": {},
   "outputs": [],
   "source": []
  }
 ],
 "metadata": {
  "kernelspec": {
   "display_name": "Python 3 (ipykernel)",
   "language": "python",
   "name": "python3"
  },
  "language_info": {
   "codemirror_mode": {
    "name": "ipython",
    "version": 3
   },
   "file_extension": ".py",
   "mimetype": "text/x-python",
   "name": "python",
   "nbconvert_exporter": "python",
   "pygments_lexer": "ipython3",
   "version": "3.9.13"
  }
 },
 "nbformat": 4,
 "nbformat_minor": 5
}
